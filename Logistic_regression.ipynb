{
 "cells": [
  {
   "cell_type": "markdown",
   "metadata": {},
   "source": [
    "# Logistic Regression from Scratch"
   ]
  },
  {
   "cell_type": "markdown",
   "metadata": {},
   "source": [
    "\n",
    "The [logistic model](https://en.wikipedia.org/wiki/Logistic_regression) is a natural candidate when one is interested in a binary outcome. For instance, a researcher might be interested in knowing what makes a successful politician. For the purpose of this blog post, \"success\"\n",
    "means the probability of winning an election. In that case, it would be sub-optimal\n",
    "to use a linear regression model to see what factors are associated with successful\n",
    "politicians, as the outcome variable is binary (a politician either wins or loses an election).\n",
    "\n",
    "\n",
    "The linear model is built around the idea that the outcome variable is continuous. What if\n",
    "the statistician tries to see what factors are influencing the **probability** of\n",
    "winning? This strategy naturally lends itself to using a [logistic model](https://en.wikipedia.org/wiki/Logistic_regression) (or a [probit](https://en.wikipedia.org/wiki/Probit_model)).\n",
    "In this blog post, I derive the **logistic model from scratch** and show how one\n",
    "can estimate its parameters using **gradient descent** or **Newton-Raphson** algorithms. I also use data on NBA players to see what makes a shot successful.\n",
    "\n",
    "## The logistic model\n",
    "\n",
    "The outcome variable $y_i$ is either $1$ (\"winning\") or $0$ (\"losing\"). The logistic\n",
    "model makes the assumption that the probability of winning is given by the logistic\n",
    "function :\n",
    "\n",
    "$$ f(y_i | x_{i}, \\theta_{i}) =  \\sigma(x_{i} '\\theta)$$\n",
    "\n",
    "with $\\sigma(v) = \\frac{exp(v)}{1+exp(v)}$\n",
    "\n",
    "The probability of losing is 1 minus the probability of wining:\n",
    "\n",
    "$$ f(y_i | x_{i}, \\theta) =  1 - \\sigma(x_{i} '\\theta)$$\n",
    "\n",
    "## A latent variable formulation\n",
    "\n",
    "A powerful way of interpreting the logistic model is to see it as the outcome of latent variable model.\n",
    "An unobservable latent variable $z_{i}$ depends linearly on $x_{i}$ plus a noise term $\\varepsilon_{i}$:\n",
    "\n",
    "$$ z_{i} = x_{i} '\\theta + \\varepsilon_{i} $$\n",
    "\n",
    "We only observe $y_i$, which is equal to 1 when $z_{i}$ is strictly positive, and 0 otherwise. If the error term is distributed according to the [logistic distribution](https://en.wikipedia.org/wiki/Logistic_distribution), we end up with the logistic model described above. If the error term is normally distributed, the model is a [probit model](https://en.wikipedia.org/wiki/Probit_model). To see that, simply express the probability of\n",
    "the latent variable to be bigger than 0:\n",
    "\n",
    "$$ f(y_i | x_{i}, \\theta_{i}) = P( x_{i} '\\theta + \\varepsilon_{i} > 0) $$ \n",
    "$$  = 1 - P( x_{i} '\\theta + \\varepsilon_{i} \\leq 0) $$ \n",
    "$$  = 1 - P(\\varepsilon_{i} \\leq - x_{i} '\\theta ) $$ \n",
    "$$  = 1 - P(\\varepsilon_{i} \\leq - x_{i} '\\theta ) $$ \n",
    "$$  = \\frac{exp(x_{i} '\\theta )}{1+exp(x_{i} '\\theta )} $$\n",
    "\n",
    "where the last line comes from using the expression of the [cdf of the logistic distribution](https://en.wikipedia.org/wiki/Logistic_distribution) with zero mean and scale parameter 1.\n",
    "\n",
    "## Interpretation of coefficients\n",
    "\n",
    "How can we read the coefficients from a logistic model? The marginal effect of a change in $x_{ij}$ (the $jth$ component of $x_i$) on the probability that $y_i = 1$ is given by:\n",
    "\n",
    "$$ \\frac{\\partial f(y_i | x_{i}, \\theta)}{\\partial x_{ij}} = \\sigma(x_{i} '\\theta)(1-\\sigma(x_{i} '\\theta))\\theta_j$$ \n",
    "\n",
    "A first observation is that the marginal effect depends on $x_i$, unlike in the linear regression model. A second observation is that the first two terms are always positive, so we do have that the interpretation that if $\\theta_j$ is positive, an increase in the $jth$ component of $x_i$ leads to a bigger probability of obtaining a success (holding everything else constant).\n",
    "\n",
    "Another way to read the results from a logistic model is to realize that it implies that the log of odd ratio is linear:\n",
    "\n",
    "$$ log\\Big(\\frac{f(y_i | x_{i}, \\theta)}{1 - f(y_i | x_{i}, \\theta)}\\Big) = x_{i} '\\theta$$ \n",
    "\n",
    "Going back to what makes a politician successful in an election, if the coefficient $\\theta_j$ is equal to 0.1, it means that a one unit increase in $x_{ij}$ rises the relative probability of winning an election by approximately $10\\%$.\n",
    "\n",
    "## Log-likelihood function\n",
    "\n",
    "To predict who is going to win the next elections, one must estimate the value of $\\theta$ using the information contained in the sample $(y_i, x_i)_{i=1}^{N}$. One \"natural\" criterion is to find the value for $\\theta$ that **maximizes the probability of observing the\n",
    "sample**. This procedure is called [Maximum likelihood estimation](https://en.wikipedia.org/wiki/Maximum_likelihood_estimation). Let us assume that sample is [i.i.d](https://en.wikipedia.org/wiki/Independent_and_identically_distributed_random_variables). If the i.i.d assumption holds, the probability of observing the sample $(y_i, x_i)_{i=1}^{N}$ is the product of the probability of observing each observation. Instead of maximizing the likelihood, it is more convenient to maximize the log-likelihood, which transforms the product of probabilities into a sum:\n",
    "\n",
    "$$ L((y_i, x_i)_{i=1}^{N};\\theta) = log( \\prod_{i=1}^{N}f(y_i | x_{i}, \\theta)) = \\sum_{i=1}^{N} log(f(y_i | x_{i}, \\theta_{i}))$$\n",
    "\n",
    "The probability of observing $y_i$  can compactly be written as\n",
    "\n",
    "$$ f(y_i | x_{i}, \\theta_{i}) = \\sigma(x_{i} '\\theta)^{y_i}(1 - \\sigma(x_{i} '\\theta))^{1 - y_i} $$\n",
    "\n",
    "Hence, the log-likelihood function writes:\n",
    "\n",
    "$$L((y_i, x_i)_{i=1}^{N};\\theta) = \\sum_{i=1}^{N} y_i log(\\sigma(x_{i} '\\theta)) + (1 - y_i)log(1 - \\sigma(x_{i} '\\theta))$$\n",
    "\n",
    "## Maximum Likelihood Estimation\n",
    "\n",
    "Taking the derivative of $f(y_i | x_{i}, \\theta)$ with respect to the parameter $\\theta$ gives:\n",
    "\n",
    "$$ f_{\\theta}(y_i | x_{i}, \\theta) = [y_i - \\sigma(x_{i} '\\theta)] x_{i} $$\n",
    "\n",
    "and the derivative of the log-likelihood function with respect to $\\theta$ is:\n",
    "\n",
    "$$L_{\\theta}((y_i, x_i)_{i=1}^{N};\\theta) = \\sum_{i=1}^{N}[y_i - \\sigma(x_{i} '\\theta)] x_{i}$$\n",
    "\n",
    "\n",
    "## Gradient descent\n",
    "\n",
    "To make the link with this [blog post](https://julienpascal.github.io/post/ols_ml/), let us use gradient descent to find the MLE estimate:\n",
    "\n",
    "$$ \\theta_{i+1} = \\theta_{i} - \\gamma \\Big(- L_{\\theta}((y_i, x_i)_{i=1}^{N};\\theta_{i}) \\Big)$$\n"
   ]
  },
  {
   "cell_type": "markdown",
   "metadata": {},
   "source": [
    "The [gradient descent](https://en.wikipedia.org/wiki/Gradient_descent) algorithm is an iterative procedure to find a minimizer of a function. At each step, the algorithm takes a step of length $\\gamma$ towards the direction of steepest descent. Note that I reformulated the problem of finding the maximum of a function $f$ (the log-likelihood) as the problem of finding the minimum of $-f$."
   ]
  },
  {
   "cell_type": "markdown",
   "metadata": {},
   "source": [
    "## Newton–Raphson method"
   ]
  },
  {
   "cell_type": "markdown",
   "metadata": {},
   "source": [
    "Roughly speaking, the Newton-Raphson method is a \"smart\" gradient descent which uses the information contained in the Hessian of the log-likelihood $HL((y_i, x_i)_{i=1}^{N};\\theta_{i})$ (on top of the gradient) to make a right move toward the minimizer. The iterative algorithm proceeds as follows:"
   ]
  },
  {
   "cell_type": "markdown",
   "metadata": {},
   "source": [
    "$$ \\theta_{i+1} = \\theta_{i} - (HL((y_i, x_i)_{i=1}^{N};\\theta_{i}) )^{-1}  \\Big(- L_{\\theta}((y_i, x_i)_{i=1}^{N};\\theta_{i}) \\Big)$$"
   ]
  },
  {
   "cell_type": "markdown",
   "metadata": {},
   "source": [
    "The next plot shows how the Newton-Raphson method works for a one dimensional root-finding problem:"
   ]
  },
  {
   "cell_type": "markdown",
   "metadata": {},
   "source": [
    "![Alt Text](https://upload.wikimedia.org/wikipedia/commons/e/e0/NewtonIteration_Ani.gif)"
   ]
  },
  {
   "cell_type": "markdown",
   "metadata": {},
   "source": [
    "source: https://en.wikipedia.org/wiki/Newton%27s_method"
   ]
  },
  {
   "cell_type": "markdown",
   "metadata": {},
   "source": [
    "Should we use gradient descent or Newton-Raphson? I let the following extract\n",
    "from the [Wikipedia article](https://en.wikipedia.org/wiki/Newton%27s_method_in_optimization) on Newton-Raphson speak for itself:\n",
    "\n",
    "> Where applicable, Newton's method converges much faster towards a local maximum or minimum than gradient descent. In fact, every local minimum has a neighborhood N such that, if we start with x0 ∈ N, Newton's method with step size γ = 1 converges quadratically (if the Hessian is invertible and a Lipschitz continuous function of x in that neighborhood). "
   ]
  },
  {
   "cell_type": "markdown",
   "metadata": {},
   "source": [
    "For the logistic model, the Newton-Raphson model is easily applicable because there exists a closed-form formula for the Hessian:"
   ]
  },
  {
   "cell_type": "markdown",
   "metadata": {},
   "source": [
    "$$ HL((y_i, x_i)_{i=1}^{N};\\theta_{i}) = \\sum_{i=1}^{N} - \\sigma(x_{i} '\\theta)[1 - \\sigma(x_{i} '\\theta)] x_{i} x_{i}'$$\n"
   ]
  },
  {
   "cell_type": "markdown",
   "metadata": {},
   "source": [
    "## Implementation in Julia"
   ]
  },
  {
   "cell_type": "markdown",
   "metadata": {},
   "source": [
    "## I. Working with simulated data"
   ]
  },
  {
   "cell_type": "markdown",
   "metadata": {},
   "source": [
    "Let's first work with simulated data. Can we actually recover the true parameter values using a manual implementation of the logistic model?"
   ]
  },
  {
   "cell_type": "markdown",
   "metadata": {},
   "source": [
    "Let's load a few dependencies:"
   ]
  },
  {
   "cell_type": "code",
   "execution_count": 18,
   "metadata": {},
   "outputs": [],
   "source": [
    "using Distributions\n",
    "using Plots\n",
    "pyplot()\n",
    "using DataFrames\n",
    "using GLM\n",
    "using Optim\n",
    "using CSV\n",
    "using GLM"
   ]
  },
  {
   "cell_type": "markdown",
   "metadata": {},
   "source": [
    "Let's create the logistic function:"
   ]
  },
  {
   "cell_type": "code",
   "execution_count": 19,
   "metadata": {},
   "outputs": [
    {
     "data": {
      "text/plain": [
       "sigma (generic function with 2 methods)"
      ]
     },
     "execution_count": 19,
     "metadata": {},
     "output_type": "execute_result"
    }
   ],
   "source": [
    "# Logistic function for a scalar input:\n",
    "function sigma(x::Float64)\n",
    "    exp(x)/(1.0 + exp(x))\n",
    "end\n",
    "\n",
    "# Logistic function for a vector input:\n",
    "function sigma(x::Array{Float64,1})\n",
    "    exp.(x) ./ (1.0 .+ exp.(x))\n",
    "end"
   ]
  },
  {
   "cell_type": "markdown",
   "metadata": {},
   "source": [
    "Let's create a function that calculates the likelihood:"
   ]
  },
  {
   "cell_type": "code",
   "execution_count": 20,
   "metadata": {},
   "outputs": [
    {
     "data": {
      "text/plain": [
       "log_likelihood (generic function with 1 method)"
      ]
     },
     "execution_count": 20,
     "metadata": {},
     "output_type": "execute_result"
    }
   ],
   "source": [
    "function log_likelihood(y::Array{Float64,1}, X::Array{Float64,2}, theta::Array{Float64,1})\n",
    "    sum = 0.0\n",
    "    #Loop over individuals in the sample\n",
    "    for i=1:size(X,1)\n",
    "        sum += y[i]*log(sigma(transpose(X[i,:])*theta)) + (1.0 - y[i])*log(1.0 - sigma(transpose(X[i,:])*theta))\n",
    "    end\n",
    "    return sum\n",
    "end"
   ]
  },
  {
   "cell_type": "markdown",
   "metadata": {},
   "source": [
    "Let's create a function that returns the derivative of the log-likelihood of the sample, which we need for the gradient descent algorithm:"
   ]
  },
  {
   "cell_type": "code",
   "execution_count": 21,
   "metadata": {},
   "outputs": [
    {
     "data": {
      "text/plain": [
       "derivative_log_likelihood (generic function with 1 method)"
      ]
     },
     "execution_count": 21,
     "metadata": {},
     "output_type": "execute_result"
    }
   ],
   "source": [
    "# Function to calculate the gradient of the log-likelihood of the sample:\n",
    "function derivative_log_likelihood(y::Array{Float64,1}, X::Array{Float64,2}, theta::Array{Float64,1})\n",
    "    sum = zeros(size(X,2))\n",
    "    #Loop over individuals in the sample\n",
    "    for i=1:size(X,1)\n",
    "        sum .+= (y[i] - sigma(transpose(X[i,:])*theta))*X[i,:]\n",
    "    end\n",
    "    return sum\n",
    "end"
   ]
  },
  {
   "cell_type": "markdown",
   "metadata": {},
   "source": [
    "Let's create a function that returns the Hessian of the log-likelihood of the sample, which we need for the Newthon-Raphson algorithm:"
   ]
  },
  {
   "cell_type": "code",
   "execution_count": 22,
   "metadata": {
    "scrolled": false
   },
   "outputs": [
    {
     "data": {
      "text/plain": [
       "hessian_log_likelihood (generic function with 1 method)"
      ]
     },
     "execution_count": 22,
     "metadata": {},
     "output_type": "execute_result"
    }
   ],
   "source": [
    "# Function to calculate the hessian of the log-likelihood of the sample:\n",
    "function hessian_log_likelihood(y::Array{Float64,1}, X::Array{Float64,2}, theta::Array{Float64,1})\n",
    "    hessian = zeros(size(X,2), size(X,2))\n",
    "    #Loop over individuals in the sample\n",
    "    for i=1:size(X,1)\n",
    "        hessian .+= - sigma(transpose(X[i,:])*theta)*(1.0 - sigma(transpose(X[i,:])*theta))*(X[i,:]*transpose(X[i,:]))\n",
    "    end\n",
    "    return hessian\n",
    "end"
   ]
  },
  {
   "cell_type": "markdown",
   "metadata": {},
   "source": [
    "Let's simulate a sample of individuals:"
   ]
  },
  {
   "cell_type": "code",
   "execution_count": 23,
   "metadata": {
    "scrolled": true
   },
   "outputs": [],
   "source": [
    "#Generation of a sample:\n",
    "#----------------------\n",
    "N_individuals = 10000 #how many individuals in the sample?\n",
    "dim_X = 3 #How many dimensions for x\n",
    "d = Normal(0.0, 1.0)\n",
    "d_logistic = Logistic(0.0, 1.0)\n",
    "# Generate true parameter values:\n",
    "theta0 = [0.0; 1.0; 2.0];"
   ]
  },
  {
   "cell_type": "code",
   "execution_count": 24,
   "metadata": {},
   "outputs": [],
   "source": [
    "# Generate X:\n",
    "X = rand(d, N_individuals, dim_X)\n",
    "# The first column is full one ones (to have a constant)\n",
    "X[:,1] = ones(N_individuals);"
   ]
  },
  {
   "cell_type": "code",
   "execution_count": 25,
   "metadata": {},
   "outputs": [],
   "source": [
    "# Convert y to a binary outcome using the latent variabe representation:\n",
    "proba_success = X*theta0 .+ rand(d_logistic, N_individuals)\n",
    "y = ifelse.(proba_success .> 0.0, 1.0, 0.0);"
   ]
  },
  {
   "cell_type": "code",
   "execution_count": 26,
   "metadata": {
    "scrolled": true
   },
   "outputs": [
    {
     "data": {
      "image/png": "[encoded data removed]"
     },
     "execution_count": 26,
     "metadata": {},
     "output_type": "execute_result"
    }
   ],
   "source": [
    "p1 = histogram(proba_success, bins=20, normalize=true, title=\"Pdf probability of success\", legend=false)\n",
    "p2 = histogram(y, title=\"Nb of successes vs failures\", legend=false)\n",
    "plot(p1,p2)"
   ]
  },
  {
   "cell_type": "markdown",
   "metadata": {},
   "source": [
    "### Maximization with Optim"
   ]
  },
  {
   "cell_type": "markdown",
   "metadata": {},
   "source": [
    "As a first pass, we can maximize the log-likelihood using the package Optim. I use the the [LBFGS](https://en.wikipedia.org/wiki/Limited-memory_BFGS)\n",
    "algorithm:"
   ]
  },
  {
   "cell_type": "code",
   "execution_count": 27,
   "metadata": {
    "scrolled": true
   },
   "outputs": [
    {
     "name": "stdout",
     "output_type": "stream",
     "text": [
      "  0.365351 seconds (3.25 M allocations: 337.831 MiB, 14.42% gc time)\n"
     ]
    },
    {
     "data": {
      "text/plain": [
       " * Status: failure (objective increased between iterations) (line search failed)\n",
       "\n",
       " * Candidate solution\n",
       "    Minimizer: [-1.21e-02, 1.03e+00, 2.03e+00]\n",
       "    Minimum:   4.301072e+03\n",
       "\n",
       " * Found with\n",
       "    Algorithm:     L-BFGS\n",
       "    Initial Point: [1.00e+00, 1.00e+00, 1.00e+00]\n",
       "\n",
       " * Convergence measures\n",
       "    |x - x'|               = 5.95e-08 ≰ 0.0e+00\n",
       "    |x - x'|/|x'|          = 2.93e-08 ≰ 0.0e+00\n",
       "    |f(x) - f(x')|         = 4.55e-12 ≰ 0.0e+00\n",
       "    |f(x) - f(x')|/|f(x')| = 1.06e-15 ≰ 0.0e+00\n",
       "    |g(x)|                 = 1.80e-06 ≰ 1.0e-08\n",
       "\n",
       " * Work counters\n",
       "    Seconds run:   0  (vs limit Inf)\n",
       "    Iterations:    7\n",
       "    f(x) calls:    22\n",
       "    ∇f(x) calls:   22\n"
      ]
     },
     "execution_count": 27,
     "metadata": {},
     "output_type": "execute_result"
    }
   ],
   "source": [
    "theta_guess = ones(dim_X)\n",
    "@time res = optimize(theta -> - log_likelihood(y, X, theta), theta_guess, LBFGS())"
   ]
  },
  {
   "cell_type": "markdown",
   "metadata": {},
   "source": [
    "We successfully recover the true parameter values (see `theta0`):"
   ]
  },
  {
   "cell_type": "code",
   "execution_count": 28,
   "metadata": {
    "scrolled": true
   },
   "outputs": [
    {
     "name": "stdout",
     "output_type": "stream",
     "text": [
      "Estimate for theta using Optim is [-0.0121241, 1.03182, 2.03217]"
     ]
    }
   ],
   "source": [
    "print(\"Estimate for theta using Optim is $(res.minimizer)\")"
   ]
  },
  {
   "cell_type": "markdown",
   "metadata": {},
   "source": [
    "### Minimization with gradient descent"
   ]
  },
  {
   "cell_type": "markdown",
   "metadata": {},
   "source": [
    "Let's implement the gradient descent algorithm within a function:"
   ]
  },
  {
   "cell_type": "code",
   "execution_count": 29,
   "metadata": {},
   "outputs": [
    {
     "data": {
      "text/plain": [
       "gradient_descent_probit (generic function with 1 method)"
      ]
     },
     "execution_count": 29,
     "metadata": {},
     "output_type": "execute_result"
    }
   ],
   "source": [
    "function gradient_descent_probit(y, X , theta_initial::Array{Float64,1}; max_iter::Int64 = 1000, \n",
    "                                learning_rate::Float64 = 0.000001, tol::Float64=0.01)\n",
    "    #initial value for theta:\n",
    "    theta_old = theta_initial\n",
    "    theta_new = similar(theta_old)\n",
    "    #convergence reached?\n",
    "    success_flag = 0\n",
    "    #Let's store the convergence history\n",
    "    history= fill!(zeros(max_iter), NaN)\n",
    "    for i=1:max_iter \n",
    "        theta_new = theta_old + learning_rate*derivative_log_likelihood(y, X, theta_old)\n",
    "        diff = maximum(abs, theta_new .- theta_old)\n",
    "        history[i] = diff\n",
    "        if diff < tol\n",
    "            success_flag = 1\n",
    "            break\n",
    "        end\n",
    "        theta_old = theta_new\n",
    "    end\n",
    "    \n",
    "    return theta_new, success_flag, history[isnan.(history) .== false]\n",
    "    \n",
    "end"
   ]
  },
  {
   "cell_type": "code",
   "execution_count": 30,
   "metadata": {},
   "outputs": [
    {
     "name": "stdout",
     "output_type": "stream",
     "text": [
      "  0.349763 seconds (5.32 M allocations: 557.288 MiB, 22.06% gc time)\n"
     ]
    }
   ],
   "source": [
    "theta_guess = zeros(dim_X)\n",
    "@time theta, flag, history = gradient_descent_probit(y, X, theta_guess, max_iter=100000, learning_rate=0.0001, tol=0.00001);"
   ]
  },
  {
   "cell_type": "markdown",
   "metadata": {},
   "source": [
    "The following graph shows the error as a function of the number of iterations. After a few iterations of the gradient descent algorithm, the error is quite small."
   ]
  },
  {
   "cell_type": "code",
   "execution_count": 31,
   "metadata": {},
   "outputs": [
    {
     "data": {
      "image/png": "[encoded data removed]"
     },
     "execution_count": 31,
     "metadata": {},
     "output_type": "execute_result"
    }
   ],
   "source": [
    "plot(history, label= \"error\", title = \"Convergence of the gradient descent algorithm\")"
   ]
  },
  {
   "cell_type": "code",
   "execution_count": 32,
   "metadata": {
    "scrolled": true
   },
   "outputs": [
    {
     "name": "stdout",
     "output_type": "stream",
     "text": [
      "Estimate for theta using gradient descent is [-0.0121219, 1.03172, 2.03198]"
     ]
    }
   ],
   "source": [
    "print(\"Estimate for theta using gradient descent is $(theta)\")"
   ]
  },
  {
   "cell_type": "markdown",
   "metadata": {},
   "source": [
    "### Minimization with Newton-Raphson"
   ]
  },
  {
   "cell_type": "markdown",
   "metadata": {},
   "source": [
    "Let's implement the Newton-Raphson algorithm within a function:"
   ]
  },
  {
   "cell_type": "code",
   "execution_count": 33,
   "metadata": {
    "scrolled": false
   },
   "outputs": [
    {
     "data": {
      "text/plain": [
       "nr_probit (generic function with 1 method)"
      ]
     },
     "execution_count": 33,
     "metadata": {},
     "output_type": "execute_result"
    }
   ],
   "source": [
    "function nr_probit(y, X , theta_initial::Array{Float64,1};\n",
    "                    max_iter::Int64 = 1000, tol::Float64=0.01)\n",
    "    #initial value for theta:\n",
    "    theta_old = theta_initial\n",
    "    theta_new = similar(theta_old)\n",
    "    #convergence reached?\n",
    "    success_flag = 0\n",
    "    #Let's store the convergence history\n",
    "    history= fill!(zeros(max_iter), NaN)\n",
    "    for i=1:max_iter \n",
    "        theta_new = theta_old - inv(hessian_log_likelihood(y, X, theta_old))*derivative_log_likelihood(y, X, theta_old)\n",
    "        diff = maximum(abs, theta_new .- theta_old)\n",
    "        history[i] = diff\n",
    "        if diff < tol\n",
    "            success_flag = 1\n",
    "            break\n",
    "        end\n",
    "        theta_old = theta_new\n",
    "    end\n",
    "    \n",
    "    return theta_new, success_flag, history[isnan.(history) .== false]\n",
    "    \n",
    "end"
   ]
  },
  {
   "cell_type": "markdown",
   "metadata": {},
   "source": [
    "The following graph shows that we find the minimizer in only 5 steps! The Newton-Raphson algorithm clearly outperforms gradient descent. Of course, everything works well because the\n",
    "problem is well-behaved and a nice formula for the Hessian is available."
   ]
  },
  {
   "cell_type": "code",
   "execution_count": 34,
   "metadata": {},
   "outputs": [
    {
     "name": "stdout",
     "output_type": "stream",
     "text": [
      "  0.532827 seconds (2.62 M allocations: 160.921 MiB, 8.07% gc time)\n"
     ]
    },
    {
     "data": {
      "image/png": "[encoded data removed]"
     },
     "execution_count": 34,
     "metadata": {},
     "output_type": "execute_result"
    }
   ],
   "source": [
    "theta_guess = ones(dim_X)\n",
    "@time theta, flag, history = nr_probit(y, X, theta_guess, max_iter=1000, tol=0.00001);\n",
    "plot(history, label= \"error\", title = \"Convergence of the Newton-Raphson algorithm\")"
   ]
  },
  {
   "cell_type": "code",
   "execution_count": 35,
   "metadata": {},
   "outputs": [
    {
     "name": "stdout",
     "output_type": "stream",
     "text": [
      "Estimate for theta using Newton-Raphson is [-0.012124, 1.03182, 2.03217]"
     ]
    }
   ],
   "source": [
    "print(\"Estimate for theta using Newton-Raphson is $(theta)\")"
   ]
  },
  {
   "cell_type": "markdown",
   "metadata": {},
   "source": [
    "### Using GLM"
   ]
  },
  {
   "cell_type": "markdown",
   "metadata": {},
   "source": [
    "We can also use the package [GLM](https://github.com/JuliaStats/GLM.jl) to estimate the logistic model. We first need to put the data into a dataframe. In the `glm()` function, we should use the `LogitLink()`"
   ]
  },
  {
   "cell_type": "code",
   "execution_count": 36,
   "metadata": {},
   "outputs": [
    {
     "data": {
      "text/html": [
       "<table class=\"data-frame\"><thead><tr><th></th><th>X1</th><th>X2</th><th>X3</th><th>y</th></tr><tr><th></th><th>Float64</th><th>Float64</th><th>Float64</th><th>Float64</th></tr></thead><tbody><p>6 rows × 4 columns</p><tr><th>1</th><td>1.0</td><td>-0.375399</td><td>-0.388093</td><td>0.0</td></tr><tr><th>2</th><td>1.0</td><td>-2.1406</td><td>-0.491775</td><td>0.0</td></tr><tr><th>3</th><td>1.0</td><td>0.535688</td><td>0.0924294</td><td>1.0</td></tr><tr><th>4</th><td>1.0</td><td>-1.1767</td><td>0.347275</td><td>1.0</td></tr><tr><th>5</th><td>1.0</td><td>0.644961</td><td>0.794347</td><td>0.0</td></tr><tr><th>6</th><td>1.0</td><td>1.1565</td><td>0.707322</td><td>1.0</td></tr></tbody></table>"
      ],
      "text/latex": [
       "\\begin{tabular}{r|cccc}\n",
       "\t& X1 & X2 & X3 & y\\\\\n",
       "\t\\hline\n",
       "\t& Float64 & Float64 & Float64 & Float64\\\\\n",
       "\t\\hline\n",
       "\t1 & 1.0 & -0.375399 & -0.388093 & 0.0 \\\\\n",
       "\t2 & 1.0 & -2.1406 & -0.491775 & 0.0 \\\\\n",
       "\t3 & 1.0 & 0.535688 & 0.0924294 & 1.0 \\\\\n",
       "\t4 & 1.0 & -1.1767 & 0.347275 & 1.0 \\\\\n",
       "\t5 & 1.0 & 0.644961 & 0.794347 & 0.0 \\\\\n",
       "\t6 & 1.0 & 1.1565 & 0.707322 & 1.0 \\\\\n",
       "\\end{tabular}\n"
      ],
      "text/plain": [
       "6×4 DataFrame\n",
       "│ Row │ X1      │ X2        │ X3        │ y       │\n",
       "│     │ \u001b[90mFloat64\u001b[39m │ \u001b[90mFloat64\u001b[39m   │ \u001b[90mFloat64\u001b[39m   │ \u001b[90mFloat64\u001b[39m │\n",
       "├─────┼─────────┼───────────┼───────────┼─────────┤\n",
       "│ 1   │ 1.0     │ -0.375399 │ -0.388093 │ 0.0     │\n",
       "│ 2   │ 1.0     │ -2.1406   │ -0.491775 │ 0.0     │\n",
       "│ 3   │ 1.0     │ 0.535688  │ 0.0924294 │ 1.0     │\n",
       "│ 4   │ 1.0     │ -1.1767   │ 0.347275  │ 1.0     │\n",
       "│ 5   │ 1.0     │ 0.644961  │ 0.794347  │ 0.0     │\n",
       "│ 6   │ 1.0     │ 1.1565    │ 0.707322  │ 1.0     │"
      ]
     },
     "execution_count": 36,
     "metadata": {},
     "output_type": "execute_result"
    }
   ],
   "source": [
    "df = DataFrame(X1=X[:,1],X2=X[:,2], X3=X[:,3], y=y);\n",
    "first(df,6)"
   ]
  },
  {
   "cell_type": "code",
   "execution_count": 37,
   "metadata": {
    "scrolled": true
   },
   "outputs": [
    {
     "name": "stdout",
     "output_type": "stream",
     "text": [
      "Iteration: 1, deviance: 8620.302013231514, diff.dev.:301.86766528565204\n",
      "Iteration: 2, deviance: 8602.238966884226, diff.dev.:18.063046347288036\n",
      "Iteration: 3, deviance: 8602.144735531361, diff.dev.:0.09423135286488105\n",
      "Iteration: 4, deviance: 8602.144732577755, diff.dev.:2.953605871880427e-6\n"
     ]
    }
   ],
   "source": [
    "fittedmodel = glm(@formula(y ~ X2 + X3), df, Binomial(), LogitLink(), verbose=true);"
   ]
  },
  {
   "cell_type": "code",
   "execution_count": 38,
   "metadata": {
    "scrolled": true
   },
   "outputs": [
    {
     "name": "stdout",
     "output_type": "stream",
     "text": [
      "Estimate for theta using GLM is [-0.012124, 1.03182, 2.03217]"
     ]
    }
   ],
   "source": [
    "print(\"Estimate for theta using GLM is $(coef(fittedmodel))\") "
   ]
  },
  {
   "cell_type": "markdown",
   "metadata": {},
   "source": [
    "##  II. What makes a successful NBA player?"
   ]
  },
  {
   "cell_type": "markdown",
   "metadata": {},
   "source": [
    "For an example involving real data, I use the data set on **NBA shots** taken during the 2014-2015 season.\n",
    "It contains information on: \n",
    "\n",
    "* who took the shot\n",
    "* where on the floor was the shot taken from\n",
    "* who was the nearest defender, \n",
    "* how far away was the nearest defender\n",
    "* time on the shot clock\n",
    "* etc. \n",
    "\n",
    "The data is available on **Kaggle** [here](https://www.kaggle.com/dansbecker/nba-shot-logs)"
   ]
  },
  {
   "cell_type": "code",
   "execution_count": 39,
   "metadata": {
    "scrolled": true
   },
   "outputs": [
    {
     "data": {
      "text/plain": [
       "21-element Array{Symbol,1}:\n",
       " :GAME_ID                   \n",
       " :MATCHUP                   \n",
       " :LOCATION                  \n",
       " :W                         \n",
       " :FINAL_MARGIN              \n",
       " :SHOT_NUMBER               \n",
       " :PERIOD                    \n",
       " :GAME_CLOCK                \n",
       " :SHOT_CLOCK                \n",
       " :DRIBBLES                  \n",
       " :TOUCH_TIME                \n",
       " :SHOT_DIST                 \n",
       " :PTS_TYPE                  \n",
       " :SHOT_RESULT               \n",
       " :CLOSEST_DEFENDER          \n",
       " :CLOSEST_DEFENDER_PLAYER_ID\n",
       " :CLOSE_DEF_DIST            \n",
       " :FGM                       \n",
       " :PTS                       \n",
       " :player_name               \n",
       " :player_id                 "
      ]
     },
     "execution_count": 39,
     "metadata": {},
     "output_type": "execute_result"
    }
   ],
   "source": [
    "df_nba = CSV.read(\"/home/julien/Documents/REPOSITORIES/LogisticRegression/data/shot_logs.csv\");\n",
    "names(df_nba)"
   ]
  },
  {
   "cell_type": "markdown",
   "metadata": {},
   "source": [
    "The dataset is quite extensive. Let's select whether or not the shot was successful, **the shot clock, the shot distance, and the proximity with the closest defender**:"
   ]
  },
  {
   "cell_type": "code",
   "execution_count": 40,
   "metadata": {
    "scrolled": true
   },
   "outputs": [
    {
     "data": {
      "text/html": [
       "<table class=\"data-frame\"><thead><tr><th></th><th>SHOT_RESULT</th><th>SHOT_CLOCK</th><th>SHOT_DIST</th><th>CLOSE_DEF_DIST</th></tr><tr><th></th><th>Float64</th><th>Float64</th><th>Float64</th><th>Float64</th></tr></thead><tbody><p>4 rows × 4 columns</p><tr><th>1</th><td>1.0</td><td>10.8</td><td>7.7</td><td>1.3</td></tr><tr><th>2</th><td>0.0</td><td>3.4</td><td>28.2</td><td>6.1</td></tr><tr><th>3</th><td>0.0</td><td>10.3</td><td>17.2</td><td>3.4</td></tr><tr><th>4</th><td>0.0</td><td>10.9</td><td>3.7</td><td>1.1</td></tr></tbody></table>"
      ],
      "text/latex": [
       "\\begin{tabular}{r|cccc}\n",
       "\t& SHOT\\_RESULT & SHOT\\_CLOCK & SHOT\\_DIST & CLOSE\\_DEF\\_DIST\\\\\n",
       "\t\\hline\n",
       "\t& Float64 & Float64 & Float64 & Float64\\\\\n",
       "\t\\hline\n",
       "\t1 & 1.0 & 10.8 & 7.7 & 1.3 \\\\\n",
       "\t2 & 0.0 & 3.4 & 28.2 & 6.1 \\\\\n",
       "\t3 & 0.0 & 10.3 & 17.2 & 3.4 \\\\\n",
       "\t4 & 0.0 & 10.9 & 3.7 & 1.1 \\\\\n",
       "\\end{tabular}\n"
      ],
      "text/plain": [
       "4×4 DataFrame\n",
       "│ Row │ SHOT_RESULT │ SHOT_CLOCK │ SHOT_DIST │ CLOSE_DEF_DIST │\n",
       "│     │ \u001b[90mFloat64\u001b[39m     │ \u001b[90mFloat64\u001b[39m    │ \u001b[90mFloat64\u001b[39m   │ \u001b[90mFloat64\u001b[39m        │\n",
       "├─────┼─────────────┼────────────┼───────────┼────────────────┤\n",
       "│ 1   │ 1.0         │ 10.8       │ 7.7       │ 1.3            │\n",
       "│ 2   │ 0.0         │ 3.4        │ 28.2      │ 6.1            │\n",
       "│ 3   │ 0.0         │ 10.3       │ 17.2      │ 3.4            │\n",
       "│ 4   │ 0.0         │ 10.9       │ 3.7       │ 1.1            │"
      ]
     },
     "execution_count": 40,
     "metadata": {},
     "output_type": "execute_result"
    }
   ],
   "source": [
    "df_nba = df_nba[[:SHOT_RESULT, :SHOT_CLOCK, :SHOT_DIST, :CLOSE_DEF_DIST]]\n",
    "# Drop rows with missings:\n",
    "df_nba = dropmissing(df_nba);\n",
    "# Drop rows with NaN:\n",
    "df_nba = df_nba[completecases(df_nba), :]\n",
    "# Convert SHOT_RESULT to a binary variable (1 for success, 0 for missed)\n",
    "df_nba[:, :SHOT_RESULT] = ifelse.(df_nba[:, :SHOT_RESULT] .== \"made\", 1.0, 0.0);\n",
    "# Show the first few rows of df_nba:\n",
    "first(df_nba, 4)"
   ]
  },
  {
   "cell_type": "markdown",
   "metadata": {},
   "source": [
    "Let's first use GLM:"
   ]
  },
  {
   "cell_type": "code",
   "execution_count": 41,
   "metadata": {
    "scrolled": false
   },
   "outputs": [
    {
     "name": "stdout",
     "output_type": "stream",
     "text": [
      "Iteration: 1, deviance: 162553.8624350455, diff.dev.:135.52181823542924\n",
      "Iteration: 2, deviance: 162553.81255007617, diff.dev.:0.04988496933947317\n"
     ]
    },
    {
     "data": {
      "text/plain": [
       "StatsModels.TableRegressionModel{GeneralizedLinearModel{GLM.GlmResp{Array{Float64,1},Binomial{Float64},LogitLink},GLM.DensePredChol{Float64,LinearAlgebra.Cholesky{Float64,Array{Float64,2}}}},Array{Float64,2}}\n",
       "\n",
       "SHOT_RESULT ~ 1 + SHOT_CLOCK + SHOT_DIST + CLOSE_DEF_DIST\n",
       "\n",
       "Coefficients:\n",
       "────────────────────────────────────────────────────────────────────────────────────\n",
       "                  Estimate   Std. Error    z value  Pr(>|z|)   Lower 95%   Upper 95%\n",
       "────────────────────────────────────────────────────────────────────────────────────\n",
       "(Intercept)     -0.0575127  0.0181349     -3.17139    0.0015  -0.0930564  -0.021969 \n",
       "SHOT_CLOCK       0.0185198  0.00104899    17.6549     <1e-69   0.0164639   0.0205758\n",
       "SHOT_DIST       -0.059745   0.000858282  -69.61       <1e-99  -0.0614272  -0.0580628\n",
       "CLOSE_DEF_DIST   0.108392   0.00279232    38.8179     <1e-99   0.102919    0.113865 \n",
       "────────────────────────────────────────────────────────────────────────────────────"
      ]
     },
     "execution_count": 41,
     "metadata": {},
     "output_type": "execute_result"
    }
   ],
   "source": [
    "fittedmodel = glm(@formula(SHOT_RESULT ~ SHOT_CLOCK + SHOT_DIST + CLOSE_DEF_DIST), df_nba, Binomial(), LogitLink(), verbose=true);\n",
    "fittedmodel"
   ]
  },
  {
   "cell_type": "markdown",
   "metadata": {},
   "source": [
    "How can we interpret those results?\n",
    "\n",
    "* time pressure makes one more successful: the higher the shot clock, the more likely one is to score the shot\n",
    "* shots from further away are more likely to be missed\n",
    "* the further away the closest defender is, the more likely the shot will be a success"
   ]
  },
  {
   "cell_type": "markdown",
   "metadata": {},
   "source": [
    "Can we find similar results \"manually\"? The answer is **yes**. To see that, let's first create the binary variable `y` and put the explanatory variables into `X` and then use Newton-Raphson:"
   ]
  },
  {
   "cell_type": "code",
   "execution_count": 42,
   "metadata": {},
   "outputs": [],
   "source": [
    "y = convert(Array, df_nba[:SHOT_RESULT]);\n",
    "X = convert(Matrix, df_nba[[:SHOT_CLOCK, :SHOT_DIST, :CLOSE_DEF_DIST]])\n",
    "X = hcat(ones(size(X,1)), X);"
   ]
  },
  {
   "cell_type": "code",
   "execution_count": 43,
   "metadata": {
    "scrolled": true
   },
   "outputs": [
    {
     "name": "stdout",
     "output_type": "stream",
     "text": [
      "  0.260955 seconds (4.90 M allocations: 568.272 MiB, 32.53% gc time)\n"
     ]
    },
    {
     "data": {
      "image/png": "[encoded data removed]"
     },
     "execution_count": 43,
     "metadata": {},
     "output_type": "execute_result"
    }
   ],
   "source": [
    "theta_guess = zeros(size(X,2))\n",
    "@time theta, flag, history = nr_probit(y, X, theta_guess, max_iter=1000, tol=0.0001);\n",
    "plot(history, label= \"error\", title = \"Convergence of the Newton-Raphson algorithm\")"
   ]
  },
  {
   "cell_type": "code",
   "execution_count": 44,
   "metadata": {},
   "outputs": [
    {
     "name": "stdout",
     "output_type": "stream",
     "text": [
      "Estimate for theta using Optim is [-0.0121241, 1.03182, 2.03217]"
     ]
    }
   ],
   "source": [
    "print(\"Estimate for theta using Optim is $(res.minimizer)\")"
   ]
  },
  {
   "cell_type": "markdown",
   "metadata": {},
   "source": [
    "## Conclusion \n",
    "\n",
    "The logistic model, often used in social sciences and in machine learning for classification purposes is a powerful tool. This blog post showed how the logistic regression model can be derived from first principles (latent regression interpretation) and how it can be implemented in just a few lines of codes. A few extensions to this blog post could be to calculate the [ROC curve](https://en.wikipedia.org/wiki/Receiver_operating_characteristic) and to calculate the standard errors. "
   ]
  },
  {
   "cell_type": "markdown",
   "metadata": {},
   "source": [
    "## References\n",
    "* https://rpubs.com/junworks/Understanding-Logistic-Regression-from-Scratch "
   ]
  }
 ],
 "metadata": {
  "kernelspec": {
   "display_name": "Julia 1.0.3",
   "language": "julia",
   "name": "julia-1.0"
  },
  "language_info": {
   "file_extension": ".jl",
   "mimetype": "application/julia",
   "name": "julia",
   "version": "1.0.3"
  }
 },
 "nbformat": 4,
 "nbformat_minor": 2
}
