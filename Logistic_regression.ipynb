{
 "cells": [
  {
   "cell_type": "markdown",
   "metadata": {},
   "source": [
    "# Logistic Regression from Scratch"
   ]
  },
  {
   "cell_type": "markdown",
   "metadata": {},
   "source": [
    "\n",
    "A researcher might be interested in knowing what\n",
    "makes a successful politician. For the purpose of this blog post, \"success\"\n",
    "means the probability of winning an election. In that case, it would be sub-optimal\n",
    "to use a linear regression model to see what factors are associated with successful\n",
    "politicians, since the outcome variable is binary (a politician either wins or loses an election).\n",
    "The linear model is built around the idea that the outcome variable is continuous. What if\n",
    "the statistician tries to sees what factors are influencing the **probability** of\n",
    "winning? This strategy naturally lends itself to using a [logistic model](https://en.wikipedia.org/wiki/Logistic_regression) (or a [probit](https://en.wikipedia.org/wiki/Probit_model)).\n",
    "In this blog post, I derive the logistic model from scratch and show how one\n",
    "can estimate its parameters.\n",
    "\n",
    "## The logistic model\n",
    "\n",
    "The outcome variable $y_i$ is either $1$ (\"winning\") or $0$ (\"losing\"). The logistic\n",
    "model makes the assumption that the probability of winning is given by the logistic\n",
    "function :\n",
    "\n",
    "$$ f(y_i | x_{i}, \\theta_{i}) =  \\sigma(x_{i} '\\theta)$$\n",
    "\n",
    "with $\\sigma(v) = \\frac{exp(v)}{1+exp(v)}$\n",
    "\n",
    "The probability of losing is 1 minus the probability of wining:\n",
    "\n",
    "$$ f(y_i | x_{i}, \\theta) =  1 - \\sigma(x_{i} '\\theta)$$\n",
    "\n",
    "## A latent variable formulation\n",
    "\n",
    "## Log-likelihood function\n",
    "\n",
    "To understand what makes a successful politician (or to predict who is going to win the next elections), one must estimate the value of $\\theta$ using the information contained in the sample $(y_i, x_i)_{i=1}^{N}$. One \"natural\" criterion is to find the value for $\\theta$ that **maximizes the probability of observing the\n",
    "sample**. This procedure is called [Maximum likelihood estimation](https://en.wikipedia.org/wiki/Maximum_likelihood_estimation). Let us assume that sample is [i.i.d](https://en.wikipedia.org/wiki/Independent_and_identically_distributed_random_variables). If the i.i.d assumption holds, the probability of observing the $(y_i, x_i)_{i=1}^{N}$ is the product of the probability of observing each observation. Instead of maximizing the likelihood, it is more convenient to maximize the log-likelihood, which transforms the product of probabilities into a sum:\n",
    "\n",
    "$$ L((y_i, x_i)_{i=1}^{N};\\theta) = log( \\prod_{i=1}^{N}f(y_i | x_{i}, \\theta)) = \\sum_{i=1}^{N} log(f(y_i | x_{i}, \\theta_{i}))$$\n",
    "\n",
    "The probability of observing $y_i$  can be compactly written as\n",
    "\n",
    "$$ f(y_i | x_{i}, \\theta_{i}) = \\sigma(x_{i} '\\theta)^{y_i}(1 - \\sigma(x_{i} '\\theta))^{1 - y_i} $$\n",
    "\n",
    "Hence, the log-likelihood function writes:\n",
    "\n",
    "$$L((y_i, x_i)_{i=1}^{N};\\theta) = \\sum_{i=1}^{N} y_i log(\\sigma(x_{i} '\\theta)) + (1 - y_i)log(1 - \\sigma(x_{i} '\\theta))$$\n",
    "\n",
    "## Maximum Likelihood Estimation\n",
    "\n",
    "Taking the derivative of $f(y_i | x_{i}, \\theta)$ with respect to the parameter $\\theta$ gives:\n",
    "\n",
    "$$ f_{\\theta}(y_i | x_{i}, \\theta) = [y_i - \\sigma(x_{i} '\\theta)] x_{i} $$\n",
    "\n",
    "and the derivative of the log-likelihood function with respect to $\\theta$ is:\n",
    "\n",
    "$$L_{\\theta}((y_i, x_i)_{i=1}^{N};\\theta) = \\sum_{i=1}^{N}[y_i - \\sigma(x_{i} '\\theta)] x_{i}$$\n",
    "\n",
    "\n",
    "## Gradient descent\n",
    "\n",
    "To make the link with this [blog post](https://julienpascal.github.io/post/ols_ml/), let us use gradient descent to find the MLE estimate:\n",
    "\n",
    "$$ \\theta_{i+1} = \\theta_{i} - \\gamma \\Big(- L_{\\theta}((y_i, x_i)_{i=1}^{N};\\theta_{i}) \\Big)$$\n"
   ]
  },
  {
   "cell_type": "markdown",
   "metadata": {},
   "source": [
    "The [gradient descent](https://en.wikipedia.org/wiki/Gradient_descent) algorithm is an iterative procedure to find a minimizer of function. At each step, the algorithm takes a step of length $\\gamma$ towards the direction of steepest descent. Note that I reformulated the problem of finding the maximum of a function $f$ (the log-likelihood) as the problem of finding the minimum of $-f$."
   ]
  },
  {
   "cell_type": "markdown",
   "metadata": {},
   "source": [
    "## Implementation in Julia"
   ]
  },
  {
   "cell_type": "markdown",
   "metadata": {},
   "source": [
    "Let's load a few dependencies:"
   ]
  },
  {
   "cell_type": "code",
   "execution_count": 7,
   "metadata": {},
   "outputs": [],
   "source": [
    "using Distributions\n",
    "using Plots\n",
    "pyplot()\n",
    "using DataFrames\n",
    "using GLM\n",
    "using Optim\n",
    "using CSV"
   ]
  },
  {
   "cell_type": "markdown",
   "metadata": {},
   "source": [
    "Let's create the logistic function:"
   ]
  },
  {
   "cell_type": "code",
   "execution_count": 8,
   "metadata": {},
   "outputs": [
    {
     "data": {
      "text/plain": [
       "sigma (generic function with 1 method)"
      ]
     },
     "execution_count": 8,
     "metadata": {},
     "output_type": "execute_result"
    }
   ],
   "source": [
    "# Logistic function for a scalar input:\n",
    "function sigma(x::Float64)\n",
    "    exp(x)/(1.0 + exp(x))\n",
    "end\n",
    "\n",
    "# Logistic function for a vector input:\n",
    "#function sigma(x::Array{Float64,1})\n",
    "#    exp.(x) ./ (1.0 .+ exp.(x))\n",
    "#end"
   ]
  },
  {
   "cell_type": "code",
   "execution_count": 9,
   "metadata": {},
   "outputs": [
    {
     "data": {
      "text/plain": [
       "sigma (generic function with 1 method)"
      ]
     },
     "execution_count": 9,
     "metadata": {},
     "output_type": "execute_result"
    }
   ],
   "source": [
    "#function(z){1/(1+exp(-z))}\n",
    "    \n",
    "# Logistic function for a scalar input:\n",
    "function sigma(x::Float64)\n",
    "   1.0/(1.0 + exp(-x))\n",
    "end\n",
    "\n",
    "# Logistic function for a vector input:\n",
    "#function sigma(x::Array{Float64,1})\n",
    "#    1.0 ./ (1.0 .+ exp.(-x))\n",
    "#end"
   ]
  },
  {
   "cell_type": "code",
   "execution_count": 10,
   "metadata": {},
   "outputs": [
    {
     "data": {
      "text/plain": [
       "3.0"
      ]
     },
     "execution_count": 10,
     "metadata": {},
     "output_type": "execute_result"
    }
   ],
   "source": [
    "transpose(ones(3))*ones(3)"
   ]
  },
  {
   "cell_type": "markdown",
   "metadata": {},
   "source": [
    "Function for the likelihood:"
   ]
  },
  {
   "cell_type": "code",
   "execution_count": 11,
   "metadata": {},
   "outputs": [
    {
     "data": {
      "text/plain": [
       "log_likelihood (generic function with 1 method)"
      ]
     },
     "execution_count": 11,
     "metadata": {},
     "output_type": "execute_result"
    }
   ],
   "source": [
    "function log_likelihood(y::Array{Float64,1}, X::Array{Float64,2}, theta::Array{Float64,1})\n",
    "    sum = 0.0\n",
    "    #Loop over individuals in the sample\n",
    "    for i=1:size(X,1)\n",
    "        sum += y[i]*log(sigma(transpose(X[i,:])*theta)) + (1.0 - y[i])*log(1.0 - sigma(transpose(X[i,:])*theta))\n",
    "    end\n",
    "    return (1/size(X,1))*sum\n",
    "end"
   ]
  },
  {
   "cell_type": "markdown",
   "metadata": {},
   "source": [
    "Let's create a function that returns the derivative of the log-likelihood of the sample, which we need for the gradient descent algorithm:"
   ]
  },
  {
   "cell_type": "code",
   "execution_count": 70,
   "metadata": {
    "scrolled": true
   },
   "outputs": [
    {
     "data": {
      "text/plain": [
       "derivative_log_likelihood (generic function with 1 method)"
      ]
     },
     "execution_count": 70,
     "metadata": {},
     "output_type": "execute_result"
    }
   ],
   "source": [
    "# Function to calculate the derivative of the log-likelihood of the sample:\n",
    "function derivative_log_likelihood(y::Array{Float64,1}, X::Array{Float64,2}, theta::Array{Float64,1})\n",
    "    sum = zeros(size(X,2))\n",
    "    #Loop over individuals in the sample\n",
    "    for i=1:size(X,1)\n",
    "        sum .+= (y[i] - sigma(transpose(X[i,:])*theta))*X[i,:]\n",
    "    end\n",
    "    return sum\n",
    "end"
   ]
  },
  {
   "cell_type": "markdown",
   "metadata": {},
   "source": [
    "Let's simulate a sample of individuals:"
   ]
  },
  {
   "cell_type": "code",
   "execution_count": 74,
   "metadata": {
    "scrolled": true
   },
   "outputs": [
    {
     "data": {
      "text/plain": [
       "3-element Array{Float64,1}:\n",
       " 0.5\n",
       " 1.0\n",
       " 2.0"
      ]
     },
     "execution_count": 74,
     "metadata": {},
     "output_type": "execute_result"
    }
   ],
   "source": [
    "#Generation of a sample:\n",
    "#----------------------\n",
    "N_individuals = 10000 #how many individuals in the sample?\n",
    "dim_X = 3 #How many dimensions for x\n",
    "d = Normal(0.0, 1.0)\n",
    "# Generate true parameter values:\n",
    "theta0 = [0.5; 1; 2]"
   ]
  },
  {
   "cell_type": "code",
   "execution_count": 78,
   "metadata": {},
   "outputs": [],
   "source": [
    "# Generate X:\n",
    "X = rand(d, N_individuals, dim_X)\n",
    "# The first column is full one ones (to have a constant)\n",
    "X[:,1] = ones(N_individuals);"
   ]
  },
  {
   "cell_type": "code",
   "execution_count": 80,
   "metadata": {},
   "outputs": [],
   "source": [
    "\n",
    "\n",
    "# Generate the y:\n",
    "#proba_success = sigma(X*theta0)\n",
    "#y = ifelse.(proba_success.>0.5, 1.0, 0.0);\n",
    "\n",
    "# Convert y to a binary outcome\n",
    "proba_success = X*theta0 .+ rand(d, N_individuals)\n",
    "y = ifelse.(proba_success .> 0.0, 1.0, 0.0);"
   ]
  },
  {
   "cell_type": "code",
   "execution_count": null,
   "metadata": {},
   "outputs": [],
   "source": [
    "#for i=1:dim_X\n",
    "#    X[:,i] = (X[:,i] .- mean(X[:,i]))./std(X[:,i])\n",
    "#end"
   ]
  },
  {
   "cell_type": "code",
   "execution_count": 81,
   "metadata": {
    "scrolled": true
   },
   "outputs": [
    {
     "data": {
      "image/png": "[encoded data removed]"
     },
     "execution_count": 81,
     "metadata": {},
     "output_type": "execute_result"
    }
   ],
   "source": [
    "p1 = histogram(proba_success, bins=20, normalize=true, title=\"Pdf probability of success\", legend=false)\n",
    "p2 = histogram(y, title=\"Nb of successes vs failures\", legend=false)\n",
    "plot(p1,p2)"
   ]
  },
  {
   "cell_type": "markdown",
   "metadata": {},
   "source": [
    "### Maximization with Optim"
   ]
  },
  {
   "cell_type": "code",
   "execution_count": 82,
   "metadata": {
    "scrolled": true
   },
   "outputs": [
    {
     "data": {
      "text/plain": [
       " * Status: success\n",
       "\n",
       " * Candidate solution\n",
       "    Minimizer: [8.70e-01, 1.79e+00, 3.53e+00]\n",
       "    Minimum:   2.865011e-01\n",
       "\n",
       " * Found with\n",
       "    Algorithm:     L-BFGS\n",
       "    Initial Point: [1.00e+00, 1.00e+00, 1.00e+00]\n",
       "\n",
       " * Convergence measures\n",
       "    |x - x'|               = 5.29e-05 ≰ 0.0e+00\n",
       "    |x - x'|/|x'|          = 1.50e-05 ≰ 0.0e+00\n",
       "    |f(x) - f(x')|         = 5.54e-11 ≰ 0.0e+00\n",
       "    |f(x) - f(x')|/|f(x')| = 1.93e-10 ≰ 0.0e+00\n",
       "    |g(x)|                 = 1.43e-09 ≤ 1.0e-08\n",
       "\n",
       " * Work counters\n",
       "    Seconds run:   0  (vs limit Inf)\n",
       "    Iterations:    8\n",
       "    f(x) calls:    25\n",
       "    ∇f(x) calls:   25\n"
      ]
     },
     "execution_count": 82,
     "metadata": {},
     "output_type": "execute_result"
    }
   ],
   "source": [
    "theta_guess = ones(dim_X)\n",
    "res = optimize(theta -> - log_likelihood(y, X, theta), theta_guess, LBFGS())"
   ]
  },
  {
   "cell_type": "code",
   "execution_count": 83,
   "metadata": {
    "scrolled": true
   },
   "outputs": [
    {
     "data": {
      "text/plain": [
       "3-element Array{Float64,1}:\n",
       " 0.8699160539267676\n",
       " 1.7918614571206264\n",
       " 3.5299259015142073"
      ]
     },
     "execution_count": 83,
     "metadata": {},
     "output_type": "execute_result"
    }
   ],
   "source": [
    "res.minimizer"
   ]
  },
  {
   "cell_type": "code",
   "execution_count": 84,
   "metadata": {},
   "outputs": [
    {
     "data": {
      "text/plain": [
       "3-element Array{Float64,1}:\n",
       " 0.4927874638768599\n",
       " 1.0150483590770731\n",
       " 1.9996219460813187"
      ]
     },
     "execution_count": 84,
     "metadata": {},
     "output_type": "execute_result"
    }
   ],
   "source": [
    "coeff = mean(theta0./res.minimizer)\n",
    "res.minimizer.* coeff"
   ]
  },
  {
   "cell_type": "markdown",
   "metadata": {},
   "source": [
    "### Minimization with Newton-Raphson"
   ]
  },
  {
   "cell_type": "markdown",
   "metadata": {},
   "source": [
    "### Minimization with gradient descent"
   ]
  },
  {
   "cell_type": "markdown",
   "metadata": {},
   "source": [
    "Let's implement the gradient descent algorithm within a function:"
   ]
  },
  {
   "cell_type": "code",
   "execution_count": 19,
   "metadata": {},
   "outputs": [
    {
     "data": {
      "text/plain": [
       "gradient_descent_probit (generic function with 1 method)"
      ]
     },
     "execution_count": 19,
     "metadata": {},
     "output_type": "execute_result"
    }
   ],
   "source": [
    "function gradient_descent_probit(y, X , theta_initial::Array{Float64,1}; max_iter::Int64 = 1000, \n",
    "                                learning_rate::Float64 = 0.000001, tol::Float64=0.01)\n",
    "    #initial value for theta:\n",
    "    theta_old = theta_initial\n",
    "    theta_new = similar(theta_old)\n",
    "    #convergence reached?\n",
    "    success_flag = 0\n",
    "    #Let's store the convergence history\n",
    "    history= fill!(zeros(max_iter), NaN)\n",
    "    for i=1:max_iter \n",
    "        theta_new = theta_old + learning_rate*derivative_log_likelihood(y, X, theta_old)\n",
    "        diff = maximum(abs, theta_new .- theta_old)\n",
    "        history[i] = diff\n",
    "        if diff < tol\n",
    "            success_flag = 1\n",
    "            break\n",
    "        end\n",
    "        theta_old = theta_new\n",
    "    end\n",
    "    \n",
    "    return theta_new, success_flag, history[isnan.(history) .== false]\n",
    "    \n",
    "end"
   ]
  },
  {
   "cell_type": "code",
   "execution_count": 20,
   "metadata": {},
   "outputs": [],
   "source": [
    "theta_guess = ones(dim_X)\n",
    "theta, flag, history = gradient_descent_probit(y, X, theta_guess, max_iter=100000, learning_rate=0.000001, tol=0.001);"
   ]
  },
  {
   "cell_type": "code",
   "execution_count": 21,
   "metadata": {},
   "outputs": [
    {
     "data": {
      "image/png": "[encoded data removed]"
     },
     "execution_count": 21,
     "metadata": {},
     "output_type": "execute_result"
    }
   ],
   "source": [
    "plot(history, label= \"error\", title = \"Convergence of the gradient descent algorithm\")"
   ]
  },
  {
   "cell_type": "code",
   "execution_count": 22,
   "metadata": {},
   "outputs": [
    {
     "ename": "MethodError",
     "evalue": "MethodError: no method matching sigma(::Array{Float64,1})\nClosest candidates are:\n  sigma(!Matched::Float64) at In[9]:5",
     "output_type": "error",
     "traceback": [
      "MethodError: no method matching sigma(::Array{Float64,1})\nClosest candidates are:\n  sigma(!Matched::Float64) at In[9]:5",
      "",
      "Stacktrace:",
      " [1] top-level scope at In[22]:1"
     ]
    }
   ],
   "source": [
    "proba_success_predicted = sigma(X*theta)\n",
    "# Convert y to a binary outcome\n",
    "y_predicted = ifelse.(proba_success_predicted .>0.5, 1.0, 0.0);"
   ]
  },
  {
   "cell_type": "code",
   "execution_count": 23,
   "metadata": {
    "scrolled": false
   },
   "outputs": [
    {
     "data": {
      "text/plain": [
       "3-element Array{Float64,1}:\n",
       " 0.7936395072059673\n",
       " 1.0043255908022524\n",
       " 1.3847982895447217"
      ]
     },
     "execution_count": 23,
     "metadata": {},
     "output_type": "execute_result"
    }
   ],
   "source": [
    "theta "
   ]
  },
  {
   "cell_type": "code",
   "execution_count": 24,
   "metadata": {
    "scrolled": true
   },
   "outputs": [
    {
     "data": {
      "text/plain": [
       "3-element Array{Float64,1}:\n",
       " 0.5\n",
       " 1.0\n",
       " 2.0"
      ]
     },
     "execution_count": 24,
     "metadata": {},
     "output_type": "execute_result"
    }
   ],
   "source": [
    "theta0"
   ]
  },
  {
   "cell_type": "markdown",
   "metadata": {},
   "source": [
    "Parameters are identified up to a scale: \n",
    "[EXPLAIN MORE USING LATENT VARIABLES]"
   ]
  },
  {
   "cell_type": "code",
   "execution_count": 25,
   "metadata": {
    "scrolled": true
   },
   "outputs": [
    {
     "data": {
      "text/plain": [
       "3-element Array{Float64,1}:\n",
       " 0.8121460324012888\n",
       " 1.0277450106795751\n",
       " 1.4170897823487039"
      ]
     },
     "execution_count": 25,
     "metadata": {},
     "output_type": "execute_result"
    }
   ],
   "source": [
    "coeff = mean(theta0./theta)\n",
    "theta.* coeff"
   ]
  },
  {
   "cell_type": "markdown",
   "metadata": {},
   "source": [
    "We don't need the scale to make accurate predictions:"
   ]
  },
  {
   "cell_type": "code",
   "execution_count": 26,
   "metadata": {
    "scrolled": true
   },
   "outputs": [
    {
     "ename": "UndefVarError",
     "evalue": "UndefVarError: y_predicted not defined",
     "output_type": "error",
     "traceback": [
      "UndefVarError: y_predicted not defined",
      "",
      "Stacktrace:",
      " [1] top-level scope at In[26]:1"
     ]
    }
   ],
   "source": [
    "histogram(y_predicted - y)"
   ]
  },
  {
   "cell_type": "markdown",
   "metadata": {},
   "source": [
    "## Other test"
   ]
  },
  {
   "cell_type": "code",
   "execution_count": 36,
   "metadata": {},
   "outputs": [],
   "source": [
    "using DataFrames, GLM\n",
    "N=1000\n",
    "distX = Normal(0,1)\n",
    "\n",
    "X1 = rand(distX,N);\n",
    "X2 = rand(distX,N);\n",
    "ɛ = randn(N);\n",
    "y = X1 .+ X2 .>ɛ;\n",
    "y_int = ifelse.(y .== true, 1.0, 0.0)\n",
    "df = DataFrame(X1=X1,X2=X2, y=y);"
   ]
  },
  {
   "cell_type": "code",
   "execution_count": 38,
   "metadata": {},
   "outputs": [
    {
     "ename": "DimensionMismatch",
     "evalue": "DimensionMismatch(\"column length 10000 for column(s) X1 and X2, and is incompatible with column length 1000 for column(s) y\")",
     "output_type": "error",
     "traceback": [
      "DimensionMismatch(\"column length 10000 for column(s) X1 and X2, and is incompatible with column length 1000 for column(s) y\")",
      "",
      "Stacktrace:",
      " [1] (::getfield(DataFrames, Symbol(\"##DataFrame#83#86\")))(::Bool, ::Type, ::Array{Any,1}, ::DataFrames.Index) at /home/julien/.julia/packages/DataFrames/CZrca/src/dataframe/dataframe.jl:118",
      " [2] Type at ./none:0 [inlined]",
      " [3] #DataFrame#94(::Base.Iterators.Pairs{Symbol,AbstractArray{T,1} where T,Tuple{Symbol,Symbol,Symbol},NamedTuple{(:X1, :X2, :y),Tuple{Array{Float64,1},Array{Float64,1},BitArray{1}}}}, ::Type) at /home/julien/.julia/packages/DataFrames/CZrca/src/dataframe/dataframe.jl:174",
      " [4] (::getfield(Core, Symbol(\"#kw#Type\")))(::NamedTuple{(:X1, :X2, :y),Tuple{Array{Float64,1},Array{Float64,1},BitArray{1}}}, ::Type{DataFrame}) at ./none:0",
      " [5] top-level scope at In[38]:1"
     ]
    }
   ],
   "source": [
    "df = DataFrame(X1=X[:,1],X2=X[:,2], y=y_int)"
   ]
  },
  {
   "cell_type": "code",
   "execution_count": 29,
   "metadata": {},
   "outputs": [
    {
     "data": {
      "text/html": [
       "<table class=\"data-frame\"><thead><tr><th></th><th>X1</th><th>X2</th><th>y</th></tr><tr><th></th><th>Float64</th><th>Float64</th><th>Bool</th></tr></thead><tbody><p>6 rows × 3 columns</p><tr><th>1</th><td>-0.149016</td><td>0.412382</td><td>true</td></tr><tr><th>2</th><td>-0.138814</td><td>-0.17516</td><td>false</td></tr><tr><th>3</th><td>0.063702</td><td>-1.45114</td><td>false</td></tr><tr><th>4</th><td>1.86973</td><td>-1.9381</td><td>false</td></tr><tr><th>5</th><td>-1.07935</td><td>0.353437</td><td>true</td></tr><tr><th>6</th><td>-1.25978</td><td>0.155787</td><td>false</td></tr></tbody></table>"
      ],
      "text/latex": [
       "\\begin{tabular}{r|ccc}\n",
       "\t& X1 & X2 & y\\\\\n",
       "\t\\hline\n",
       "\t& Float64 & Float64 & Bool\\\\\n",
       "\t\\hline\n",
       "\t1 & -0.149016 & 0.412382 & true \\\\\n",
       "\t2 & -0.138814 & -0.17516 & false \\\\\n",
       "\t3 & 0.063702 & -1.45114 & false \\\\\n",
       "\t4 & 1.86973 & -1.9381 & false \\\\\n",
       "\t5 & -1.07935 & 0.353437 & true \\\\\n",
       "\t6 & -1.25978 & 0.155787 & false \\\\\n",
       "\\end{tabular}\n"
      ],
      "text/plain": [
       "6×3 DataFrame\n",
       "│ Row │ X1        │ X2       │ y     │\n",
       "│     │ \u001b[90mFloat64\u001b[39m   │ \u001b[90mFloat64\u001b[39m  │ \u001b[90mBool\u001b[39m  │\n",
       "├─────┼───────────┼──────────┼───────┤\n",
       "│ 1   │ -0.149016 │ 0.412382 │ true  │\n",
       "│ 2   │ -0.138814 │ -0.17516 │ false │\n",
       "│ 3   │ 0.063702  │ -1.45114 │ false │\n",
       "│ 4   │ 1.86973   │ -1.9381  │ false │\n",
       "│ 5   │ -1.07935  │ 0.353437 │ true  │\n",
       "│ 6   │ -1.25978  │ 0.155787 │ false │"
      ]
     },
     "execution_count": 29,
     "metadata": {},
     "output_type": "execute_result"
    }
   ],
   "source": [
    "first(df,6)"
   ]
  },
  {
   "cell_type": "code",
   "execution_count": 30,
   "metadata": {
    "scrolled": true
   },
   "outputs": [
    {
     "ename": "ErrorException",
     "evalue": "type NamedTuple has no field X3",
     "output_type": "error",
     "traceback": [
      "type NamedTuple has no field X3",
      "",
      "Stacktrace:",
      " [1] #130 at ./none:0 [inlined]",
      " [2] iterate(::Base.Generator{Tuple{Symbol,Symbol,Symbol},getfield(Base, Symbol(\"##130#133\")){NamedTuple{(:X1, :X2, :y),Tuple{Array{Float64,1},Array{Float64,1},BitArray{1}}}}}, ::Int64) at ./generator.jl:47",
      " [3] append_any(::Tuple{DataType}, ::Vararg{Any,N} where N) at ./essentials.jl:432",
      " [4] (::Type{NamedTuple{names,T} where T<:Tuple})(::NamedTuple) at ./namedtuple.jl:87",
      " [5] missing_omit(::NamedTuple{(:X1, :X2, :y),Tuple{Array{Float64,1},Array{Float64,1},BitArray{1}}}, ::FormulaTerm{Term,Tuple{Term,Term}}) at /home/julien/.julia/packages/StatsModels/9cHwk/src/modelframe.jl:69",
      " [6] #ModelFrame#42(::Type{GeneralizedLinearModel}, ::Dict{Symbol,Any}, ::Type, ::FormulaTerm{Term,Tuple{Term,Term}}, ::NamedTuple{(:X1, :X2, :y),Tuple{Array{Float64,1},Array{Float64,1},BitArray{1}}}) at /home/julien/.julia/packages/StatsModels/9cHwk/src/modelframe.jl:74",
      " [7] (::getfield(Core, Symbol(\"#kw#Type\")))(::NamedTuple{(:model, :contrasts),Tuple{UnionAll,Dict{Symbol,Any}}}, ::Type{ModelFrame}, ::FormulaTerm{Term,Tuple{Term,Term}}, ::NamedTuple{(:X1, :X2, :y),Tuple{Array{Float64,1},Array{Float64,1},BitArray{1}}}) at ./none:0",
      " [8] #fit#57(::Dict{Symbol,Any}, ::Base.Iterators.Pairs{Symbol,Bool,Tuple{Symbol},NamedTuple{(:verbose,),Tuple{Bool}}}, ::Function, ::Type{GeneralizedLinearModel}, ::FormulaTerm{Term,Tuple{Term,Term}}, ::DataFrame, ::Binomial{Float64}, ::Vararg{Any,N} where N) at /home/julien/.julia/packages/StatsModels/9cHwk/src/statsmodel.jl:85",
      " [9] (::getfield(StatsBase, Symbol(\"#kw##fit\")))(::NamedTuple{(:verbose,),Tuple{Bool}}, ::typeof(fit), ::Type{GeneralizedLinearModel}, ::FormulaTerm{Term,Tuple{Term,Term}}, ::DataFrame, ::Binomial{Float64}, ::ProbitLink) at ./none:0",
      " [10] #glm#14(::Base.Iterators.Pairs{Symbol,Bool,Tuple{Symbol},NamedTuple{(:verbose,),Tuple{Bool}}}, ::Function, ::FormulaTerm{Term,Tuple{Term,Term}}, ::DataFrame, ::Binomial{Float64}, ::Vararg{Any,N} where N) at /home/julien/.julia/packages/GLM/3rvaa/src/glmfit.jl:474",
      " [11] (::getfield(GLM, Symbol(\"#kw##glm\")))(::NamedTuple{(:verbose,),Tuple{Bool}}, ::typeof(glm), ::FormulaTerm{Term,Tuple{Term,Term}}, ::DataFrame, ::Binomial{Float64}, ::Vararg{Any,N} where N) at ./none:0",
      " [12] top-level scope at In[30]:1"
     ]
    }
   ],
   "source": [
    "fittedmodel = glm(@formula(y ~ X2 + X3), df, Binomial(), ProbitLink(), verbose=true);"
   ]
  },
  {
   "cell_type": "code",
   "execution_count": null,
   "metadata": {
    "scrolled": true
   },
   "outputs": [],
   "source": [
    "coef(fittedmodel)"
   ]
  },
  {
   "cell_type": "markdown",
   "metadata": {},
   "source": [
    "Let's create a X matrix with a constant:"
   ]
  },
  {
   "cell_type": "code",
   "execution_count": null,
   "metadata": {},
   "outputs": [],
   "source": [
    "X = hcat(ones(N), X1,X2)"
   ]
  },
  {
   "cell_type": "code",
   "execution_count": null,
   "metadata": {},
   "outputs": [],
   "source": [
    "theta_guess = zeros(3)\n",
    "theta, flag, history = gradient_descent_probit(y_int, X, theta_guess, max_iter=100000, learning_rate=0.000001, tol=0.001);"
   ]
  },
  {
   "cell_type": "code",
   "execution_count": null,
   "metadata": {},
   "outputs": [],
   "source": [
    "theta"
   ]
  },
  {
   "cell_type": "markdown",
   "metadata": {},
   "source": [
    "## NBA data"
   ]
  },
  {
   "cell_type": "markdown",
   "metadata": {},
   "source": [
    "I use the data set on NBA shots taken during the 2014-2015 season.\n",
    "It contains information on who took the shot, where on the floor was the shot taken from, who was the nearest defender, \n",
    "how far away was the nearest defender, time on the shot clock, etc. \n",
    "The data is available on Kaggle [here](https://www.kaggle.com/dansbecker/nba-shot-logs)"
   ]
  },
  {
   "cell_type": "code",
   "execution_count": 39,
   "metadata": {
    "scrolled": false
   },
   "outputs": [],
   "source": [
    "df_nba = CSV.read(\"/home/julien/Documents/REPOSITORIES/LogisticRegression/data/shot_logs.csv\");"
   ]
  },
  {
   "cell_type": "code",
   "execution_count": 40,
   "metadata": {
    "scrolled": true
   },
   "outputs": [
    {
     "data": {
      "text/plain": [
       "21-element Array{Symbol,1}:\n",
       " :GAME_ID                   \n",
       " :MATCHUP                   \n",
       " :LOCATION                  \n",
       " :W                         \n",
       " :FINAL_MARGIN              \n",
       " :SHOT_NUMBER               \n",
       " :PERIOD                    \n",
       " :GAME_CLOCK                \n",
       " :SHOT_CLOCK                \n",
       " :DRIBBLES                  \n",
       " :TOUCH_TIME                \n",
       " :SHOT_DIST                 \n",
       " :PTS_TYPE                  \n",
       " :SHOT_RESULT               \n",
       " :CLOSEST_DEFENDER          \n",
       " :CLOSEST_DEFENDER_PLAYER_ID\n",
       " :CLOSE_DEF_DIST            \n",
       " :FGM                       \n",
       " :PTS                       \n",
       " :player_name               \n",
       " :player_id                 "
      ]
     },
     "execution_count": 40,
     "metadata": {},
     "output_type": "execute_result"
    }
   ],
   "source": [
    "names(df_nba)"
   ]
  },
  {
   "cell_type": "markdown",
   "metadata": {},
   "source": [
    "The dataset is quite extensive. Let's select whether or not the shot was successful, the shot clock, the shot distance, and the proximity with the closest defender :"
   ]
  },
  {
   "cell_type": "code",
   "execution_count": 93,
   "metadata": {},
   "outputs": [
    {
     "data": {
      "text/html": [
       "<table class=\"data-frame\"><thead><tr><th></th><th>SHOT_RESULT</th><th>SHOT_CLOCK</th><th>SHOT_DIST</th><th>CLOSE_DEF_DIST</th></tr><tr><th></th><th>Float64</th><th>Float64</th><th>Float64</th><th>Float64</th></tr></thead><tbody><p>6 rows × 4 columns</p><tr><th>1</th><td>0.0</td><td>10.8</td><td>7.7</td><td>1.3</td></tr><tr><th>2</th><td>0.0</td><td>3.4</td><td>28.2</td><td>6.1</td></tr><tr><th>3</th><td>0.0</td><td>10.3</td><td>17.2</td><td>3.4</td></tr><tr><th>4</th><td>0.0</td><td>10.9</td><td>3.7</td><td>1.1</td></tr><tr><th>5</th><td>0.0</td><td>9.1</td><td>18.4</td><td>2.6</td></tr><tr><th>6</th><td>0.0</td><td>14.5</td><td>20.7</td><td>6.1</td></tr></tbody></table>"
      ],
      "text/latex": [
       "\\begin{tabular}{r|cccc}\n",
       "\t& SHOT\\_RESULT & SHOT\\_CLOCK & SHOT\\_DIST & CLOSE\\_DEF\\_DIST\\\\\n",
       "\t\\hline\n",
       "\t& Float64 & Float64 & Float64 & Float64\\\\\n",
       "\t\\hline\n",
       "\t1 & 0.0 & 10.8 & 7.7 & 1.3 \\\\\n",
       "\t2 & 0.0 & 3.4 & 28.2 & 6.1 \\\\\n",
       "\t3 & 0.0 & 10.3 & 17.2 & 3.4 \\\\\n",
       "\t4 & 0.0 & 10.9 & 3.7 & 1.1 \\\\\n",
       "\t5 & 0.0 & 9.1 & 18.4 & 2.6 \\\\\n",
       "\t6 & 0.0 & 14.5 & 20.7 & 6.1 \\\\\n",
       "\\end{tabular}\n"
      ],
      "text/plain": [
       "6×4 DataFrame\n",
       "│ Row │ SHOT_RESULT │ SHOT_CLOCK │ SHOT_DIST │ CLOSE_DEF_DIST │\n",
       "│     │ \u001b[90mFloat64\u001b[39m     │ \u001b[90mFloat64\u001b[39m    │ \u001b[90mFloat64\u001b[39m   │ \u001b[90mFloat64\u001b[39m        │\n",
       "├─────┼─────────────┼────────────┼───────────┼────────────────┤\n",
       "│ 1   │ 0.0         │ 10.8       │ 7.7       │ 1.3            │\n",
       "│ 2   │ 0.0         │ 3.4        │ 28.2      │ 6.1            │\n",
       "│ 3   │ 0.0         │ 10.3       │ 17.2      │ 3.4            │\n",
       "│ 4   │ 0.0         │ 10.9       │ 3.7       │ 1.1            │\n",
       "│ 5   │ 0.0         │ 9.1        │ 18.4      │ 2.6            │\n",
       "│ 6   │ 0.0         │ 14.5       │ 20.7      │ 6.1            │"
      ]
     },
     "execution_count": 93,
     "metadata": {},
     "output_type": "execute_result"
    }
   ],
   "source": [
    "df_nba = df_nba[[:SHOT_RESULT, :SHOT_CLOCK, :SHOT_DIST, :CLOSE_DEF_DIST]]\n",
    "# Drop rows with missings:\n",
    "df_nba = dropmissing(df_nba);\n",
    "# Drop rows with NaN:\n",
    "df_nba = df_nba[completecases(df_nba), :]\n",
    "# Convert SHOT_RESULT to a binary variable (1 for success, 0 for missed)\n",
    "df_nba[:, :SHOT_RESULT] = ifelse.(df_nba[:SHOT_RESULT] .== \"made\", 1.0, 0.0);\n",
    "# Show the first few rows:\n",
    "first(df_nba, 6)"
   ]
  },
  {
   "cell_type": "markdown",
   "metadata": {},
   "source": [
    "Create a binary variable:"
   ]
  },
  {
   "cell_type": "code",
   "execution_count": 43,
   "metadata": {
    "scrolled": false
   },
   "outputs": [],
   "source": [
    "y = convert(Array, df_nba[:SHOT_RESULT]);"
   ]
  },
  {
   "cell_type": "code",
   "execution_count": 44,
   "metadata": {
    "scrolled": true
   },
   "outputs": [],
   "source": [
    "X = convert(Matrix, df_nba[[:SHOT_CLOCK, :SHOT_DIST, :CLOSE_DEF_DIST]])\n",
    "X = hcat(ones(size(X,1)), X);"
   ]
  },
  {
   "cell_type": "code",
   "execution_count": 45,
   "metadata": {},
   "outputs": [
    {
     "data": {
      "text/plain": [
       "-0.6931471805586445"
      ]
     },
     "execution_count": 45,
     "metadata": {},
     "output_type": "execute_result"
    }
   ],
   "source": [
    "log_likelihood(y, X, zeros(size(X,2)))"
   ]
  },
  {
   "cell_type": "code",
   "execution_count": 46,
   "metadata": {},
   "outputs": [
    {
     "data": {
      "text/plain": [
       " * Status: success\n",
       "\n",
       " * Candidate solution\n",
       "    Minimizer: [-5.75e-02, 1.85e-02, -5.97e-02,  ...]\n",
       "    Minimum:   6.634741e-01\n",
       "\n",
       " * Found with\n",
       "    Algorithm:     L-BFGS\n",
       "    Initial Point: [0.00e+00, 0.00e+00, 0.00e+00,  ...]\n",
       "\n",
       " * Convergence measures\n",
       "    |x - x'|               = 1.78e-06 ≰ 0.0e+00\n",
       "    |x - x'|/|x'|          = 1.64e-05 ≰ 0.0e+00\n",
       "    |f(x) - f(x')|         = 9.46e-12 ≰ 0.0e+00\n",
       "    |f(x) - f(x')|/|f(x')| = 1.43e-11 ≰ 0.0e+00\n",
       "    |g(x)|                 = 8.89e-09 ≤ 1.0e-08\n",
       "\n",
       " * Work counters\n",
       "    Seconds run:   7  (vs limit Inf)\n",
       "    Iterations:    10\n",
       "    f(x) calls:    37\n",
       "    ∇f(x) calls:   37\n"
      ]
     },
     "execution_count": 46,
     "metadata": {},
     "output_type": "execute_result"
    }
   ],
   "source": [
    "theta_guess = zeros(size(X,2))\n",
    "res = optimize(theta -> - log_likelihood(y, X, theta), theta_guess, LBFGS())"
   ]
  },
  {
   "cell_type": "code",
   "execution_count": 59,
   "metadata": {
    "scrolled": true
   },
   "outputs": [
    {
     "data": {
      "text/plain": [
       "4-element Array{Float64,1}:\n",
       " -0.057512980272941105\n",
       "  0.018519865965349713\n",
       " -0.059745060212410064\n",
       "  0.10839221737959787 "
      ]
     },
     "execution_count": 59,
     "metadata": {},
     "output_type": "execute_result"
    }
   ],
   "source": [
    "res.minimizer"
   ]
  },
  {
   "cell_type": "code",
   "execution_count": 60,
   "metadata": {},
   "outputs": [
    {
     "data": {
      "text/plain": [
       "-0.663474116953469"
      ]
     },
     "execution_count": 60,
     "metadata": {},
     "output_type": "execute_result"
    }
   ],
   "source": [
    "log_likelihood(y, X, res.minimizer)"
   ]
  },
  {
   "cell_type": "code",
   "execution_count": 62,
   "metadata": {},
   "outputs": [
    {
     "data": {
      "text/plain": [
       "-0.663474116953469"
      ]
     },
     "execution_count": 62,
     "metadata": {},
     "output_type": "execute_result"
    }
   ],
   "source": [
    "log_likelihood(y, X, res.minimizer.* 1)"
   ]
  },
  {
   "cell_type": "code",
   "execution_count": 63,
   "metadata": {},
   "outputs": [
    {
     "name": "stdout",
     "output_type": "stream",
     "text": [
      "Iteration: 1, deviance: 162553.8624350455, diff.dev.:135.52181823542924\n",
      "Iteration: 2, deviance: 162553.81255007617, diff.dev.:0.04988496933947317\n"
     ]
    }
   ],
   "source": [
    "fittedmodel = glm(@formula(SHOT_RESULT ~ SHOT_CLOCK + SHOT_DIST + CLOSE_DEF_DIST), df_nba, Binomial(), LogitLink(), verbose=true);"
   ]
  },
  {
   "cell_type": "code",
   "execution_count": 64,
   "metadata": {},
   "outputs": [
    {
     "data": {
      "text/plain": [
       "4-element Array{Float64,1}:\n",
       " -0.057512702715234724\n",
       "  0.01851984333927924 \n",
       " -0.05974499996244529 \n",
       "  0.10839207775566419 "
      ]
     },
     "execution_count": 64,
     "metadata": {},
     "output_type": "execute_result"
    }
   ],
   "source": [
    "coef_GMM = coef(fittedmodel)"
   ]
  },
  {
   "cell_type": "markdown",
   "metadata": {},
   "source": [
    "## References\n",
    "* https://rpubs.com/junworks/Understanding-Logistic-Regression-from-Scratch"
   ]
  }
 ],
 "metadata": {
  "kernelspec": {
   "display_name": "Julia 1.0.3",
   "language": "julia",
   "name": "julia-1.0"
  },
  "language_info": {
   "file_extension": ".jl",
   "mimetype": "application/julia",
   "name": "julia",
   "version": "1.0.3"
  }
 },
 "nbformat": 4,
 "nbformat_minor": 2
}
